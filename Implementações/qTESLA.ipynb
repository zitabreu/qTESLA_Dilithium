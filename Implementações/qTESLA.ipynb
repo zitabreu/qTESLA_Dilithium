{
 "cells": [
  {
   "cell_type": "markdown",
   "metadata": {
    "collapsed": false
   },
   "source": [
    "# qTESLA\n",
    "O qTESLA é uma família de esquemas de assinatura digital lattice-based que fundamenta a sua segurança no problema de decisão do Ring Leaning With Errors (**R-LWE**).\n",
    "A implementação que se segue assume os parâmetros recomendados do **qTESLA-p-I**."
   ]
  },
  {
   "cell_type": "markdown",
   "metadata": {
    "collapsed": false
   },
   "source": [
    "## Parâmetros:\n",
    "- o primo $p = 343576577$\n",
    "- uma potencia de $2$, nomeadamente $n =1024$ \n",
    "- $d = 22$, sendo este o limite às truncaturas\n",
    "- $B = 2^{19}-1$, corresponde ao limite para o polinómio aleatório na assinatura\n",
    "- $L_e = 554$ (constante vinculada para o polinómio erro)\n",
    "- $L_s = 554$ (constante vinculada para o polinómio secreto)\n",
    "- $\\sigma = 8.5$, que corresponde ao desvio padrão da distribuição gaussiana \n",
    "- $h = 25$ que é o parâmetro usado para a função de hash H"
   ]
  },
  {
   "cell_type": "markdown",
   "metadata": {
    "collapsed": false
   },
   "source": [
    "## KeyGen:\n",
    "- Gerar polinómios $e,s$ segundo a distribuição gaussiana com desvio padrão $\\sigma$\n",
    "- Calcular a soma dos $h$ maiores elementos em valor absoluto de $e,s$ e se for maior que $L_e,L_s$ respetivamente, voltar ao passo inicial\n",
    "- Gerar $a$ em $R_q$ invertível\n",
    "- Calcular $t = a \\cdot s + e \\in \\mathcal{R}_{q}$\n",
    "- A chave pública é $(a,t) \\in \\mathcal{R}_{q}^{2}$\n",
    "- A chave privada é $(s,e) \\in \\mathcal{R}^{2}$"
   ]
  },
  {
   "cell_type": "markdown",
   "metadata": {
    "collapsed": false
   },
   "source": [
    "## Sign: \n",
    "- Gerar aleatoriamente $r \\in \\mathcal{R}_{q}$ tal que a norma infinita de $r$ seja menor que $B$\n",
    "- calcular $c = H([a \\cdot r ]_M || m) \\in \\mathcal{R}_{q}$\n",
    "- calcular $z = r + s \\cdot c \\in \\mathcal{R}_q$\n",
    "- se a norma infinita de $z$ + $L_s \\geq B$ , voltar ao início\n",
    "- se $a \\cdot r - e \\cdot c$ não for $L_e$ well-rounded, voltar ao início\n",
    "\n",
    "A assinatura é o par $(z,c)$"
   ]
  },
  {
   "cell_type": "markdown",
   "metadata": {
    "collapsed": false
   },
   "source": [
    "## Verify:\n",
    "Considerando a assinatura $(z,c)$ e a mensagem $m$:\n",
    "- se a norma infinita de $z + L_s \\geq B$ , rejeita-se a assinatura\n",
    "- $w = a \\cdot z - t \\cdot c \\in \\mathcal{R}_q$\n",
    "- se $ c \\neq H([w]_{M} || m)$, rejeita-se a assinatura, caso contrário, a assinatura é aceite"
   ]
  },
  {
   "cell_type": "code",
   "execution_count": 15,
   "metadata": {
    "collapsed": false
   },
   "outputs": [
   ],
   "source": [
    "from sage.stats.distributions.discrete_gaussian_polynomial import DiscreteGaussianDistributionPolynomialSampler\n",
    "\n",
    "class qTesla:\n",
    "    def __init__(self):\n",
    "        self.q = 343576577\n",
    "        self.n = 1024\n",
    "        self.d = 22\n",
    "        self.B = 2^19 - 1\n",
    "        self.Le = 554\n",
    "        self.Ls = 554\n",
    "        self.sigma = 8.5\n",
    "        self.h = 25\n",
    "        self.alfa = self.sigma/self.q\n",
    "\n",
    "\n",
    "    #FUNCOES AUXILIARES:\n",
    "\n",
    "    # Least significant bits\n",
    "    def Lsb(self,val):\n",
    "        R = IntegerModRing(self.q)\n",
    "        x = mod(R(val),2^self.d)\n",
    "        return int(x)\n",
    "\n",
    "    # Most significant bits\n",
    "    def Msb(self,val):\n",
    "        R = IntegerModRing(self.q)\n",
    "        x = self.Lsb(val)\n",
    "        y = (R(val) - x)/2^self.d\n",
    "        return int(y)\n",
    "\n",
    "    # Funcao Hash\n",
    "    def Hash(self,val):\n",
    "        H = []\n",
    "        cont = 0\n",
    "        cont_num = 0\n",
    "        for i in range(0,self.n,2):\n",
    "            u = val[i] + val[i+1]\n",
    "            cont += 1\n",
    "            if u == '11':\n",
    "                H.append(0)\n",
    "            if u == '01':\n",
    "                H.append(1)\n",
    "                cont_num += 1\n",
    "            if u == '00':\n",
    "                H.append(0)\n",
    "            if u == '10':\n",
    "                H.append(-1)\n",
    "                cont_num += 1\n",
    "            if cont_num > self.h or cont_num < self.h:\n",
    "                break\n",
    "        for i in range(self.n - 1):\n",
    "            H.append(0)\n",
    "        return H\n",
    "\n",
    "    # Funcao auxiliar da funcao infinite_norm\n",
    "    def pol_aux(self,w,n):\n",
    "        Zx.<x> = ZZ[]\n",
    "        r = int((n-1)//2)\n",
    "        return Zx(map(lambda x: lift(x + r) - r , w.list()))\n",
    "\n",
    "    # Norma infinita\n",
    "    def infinite_norm(self,p,n):\n",
    "        #R = self.pol_aux(p,n)\n",
    "        J = p.list()\n",
    "        for i in range(len(J)):\n",
    "            J[i] = abs(int(J[i]))\n",
    "        return int(max(J))\n",
    "\n",
    "    # Funcao que verifica se o polinomio p e T-well-rounded\n",
    "    def well_rounded(self,T,p):\n",
    "        rounded = False\n",
    "        norm = self.infinite_norm(p,self.q)\n",
    "        lista = []\n",
    "        u = p.list()\n",
    "        for i in range(len(u)):\n",
    "            k = self.Lsb(u[i])\n",
    "            u[i] = abs(int(k))\n",
    "        normL = max(u)\n",
    "        if norm <= floor(self.q/2)-T and normL <= 2^(self.d-1) - T:\n",
    "            rounded = True\n",
    "        return rounded\n",
    "\n",
    "    # FUNCOES PRINCIPAIS\n",
    "\n",
    "\n",
    "    def Keygen(self):\n",
    "        Zx.<x> = ZZ[]\n",
    "        R.<x> = Zx.quotient(x^self.n+1)\n",
    "        Zq.<z> = PolynomialRing(GF(self.q))\n",
    "        Rq.<z> = Zq.quotient(z^self.n+1)\n",
    "\n",
    "        # PASSO 1\n",
    "        e = DiscreteGaussianDistributionPolynomialSampler(R, self.n, self.sigma)()\n",
    "        self.eq = DiscreteGaussianDistributionPolynomialSampler(Rq, self.n, self.sigma)()\n",
    "        s = DiscreteGaussianDistributionPolynomialSampler(R, self.n, self.sigma)()\n",
    "        self.sq = DiscreteGaussianDistributionPolynomialSampler(Rq, self.n, self.sigma)()\n",
    "\n",
    "        # PASSO 2\n",
    "        E = e.list()\n",
    "        for i in range(len(E)):\n",
    "            E[i] = abs(int(E[i]))\n",
    "        S = s.list()\n",
    "        for i in range(len(S)):\n",
    "            S[i] = abs(int(S[i]))\n",
    "        E.sort()\n",
    "        S.sort()\n",
    "        E = E[self.n-self.h:]\n",
    "        S = S[self.n-self.h:]\n",
    "        while sum(E) >= self.Le or sum(S) >= self.Ls:\n",
    "            e = DiscreteGaussianDistributionPolynomialSampler(R, self.n, self.sigma)()\n",
    "            self.eq = DiscreteGaussianDistributionPolynomialSampler(Rq, self.n, self.sigma)()\n",
    "            s = DiscreteGaussianDistributionPolynomialSampler(R, self.n, self.sigma)()\n",
    "            E = e.list()\n",
    "            for i in range(len(E)):\n",
    "                E[i] = abs(int(E[i]))\n",
    "            S = s.list()\n",
    "            for i in range(len(S)):\n",
    "                S[i] = abs(int(S[i]))\n",
    "            E.sort()\n",
    "            S.sort()\n",
    "            E = E[self.n - self.d:]\n",
    "            S = S[self.n - self.d:]\n",
    "\n",
    "        # PASSO 3\n",
    "        a = Rq.random_element()\n",
    "        while not a.is_unit():\n",
    "            a = Rq.random_element()\n",
    "        self.aq = a\n",
    "\n",
    "        t = self.aq*self.sq + self.eq\n",
    "\n",
    "        # PASSO 4 E 5\n",
    "        self.PubKey = (a,t)\n",
    "        self.PrivKey = (s,e)\n",
    "        return(self.PubKey,self.PrivKey)\n",
    "\n",
    "\n",
    "    def Sign(self,m):\n",
    "        Zx.<x> = ZZ[]\n",
    "        R.<x> = Zx.quotient(x^self.n+1)\n",
    "        Zq.<z> = PolynomialRing(GF(self.q))\n",
    "        Rq.<z> = Zq.quotient(z^self.n+1)\n",
    "\n",
    "        # PASSO 1\n",
    "        r = []\n",
    "        for i in range(self.n):\n",
    "            r.append(randint(1,self.B))\n",
    "        rq = Rq(r)\n",
    "        r = R(r)\n",
    "\n",
    "        # PASSO 2\n",
    "        a = self.PubKey[0]\n",
    "        u = self.aq*rq\n",
    "        u = u.list()\n",
    "        string = \"\"\n",
    "        l = m[2:]\n",
    "        string = string + l\n",
    "        for i in range(self.n):\n",
    "            u[i] = self.Msb(u[i])\n",
    "            l = bin(u[i])\n",
    "            if u[i] >= 0:\n",
    "                string = string + l[2:]\n",
    "            if u[i] < 0:\n",
    "                string = string + l[3:]\n",
    "        c = self.Hash(string)\n",
    "        cq = Rq(c)\n",
    "        cR = R(c)\n",
    "\n",
    "        # PASSO 3\n",
    "        s = self.PrivKey[0]\n",
    "        e = self.PrivKey[1]\n",
    "\n",
    "        z = rq+self.sq*cq\n",
    "\n",
    "        # PASSO 4, 5 E 6\n",
    "        wb = self.aq*rq - self.eq*cq\n",
    "        while self.infinite_norm(z,self.q) + self.Ls >= self.B and self.well_rounded(self.Le,wb) == False:\n",
    "            r = []\n",
    "            for i in range(self.n):\n",
    "                r.append(randint(1,self.B))\n",
    "            rq = Rq(r)\n",
    "            r = R(r)\n",
    "            a = self.PubKey[0]\n",
    "            u = self.aq*rq\n",
    "            u = u.list()\n",
    "            string = ''\n",
    "            l = m[2:]\n",
    "            string = string + l\n",
    "            for i in range(self.n):\n",
    "                u[i] = self.Msb(u[i])\n",
    "                l = bin(u[i])\n",
    "                if u[i] >= 0:\n",
    "                    string = string + l[2:]\n",
    "                if u[i] < 0:\n",
    "                    string = string + l[3:]\n",
    "            c = self.Hash(string)\n",
    "            cq = Rq(c)\n",
    "            cR = R(c)\n",
    "            s = self.PrivKey[0]\n",
    "            e = self.PrivKey[1]\n",
    "            z = rq + self.sq*cq\n",
    "            wb = self.aq*rq-self.eq*cq\n",
    "        sign = (z,c)\n",
    "        return sign\n",
    "\n",
    "\n",
    "\n",
    "    def Verify(self,m,sign):\n",
    "        z = sign[0]\n",
    "        c = sign[1]\n",
    "        a = self.PubKey[0]\n",
    "        t = self.PubKey[1]\n",
    "\n",
    "\n",
    "        Zx.<x> = ZZ[]\n",
    "        R.<x> = Zx.quotient(x^self.n+1)\n",
    "        Zq.<z> = PolynomialRing(GF(self.q))\n",
    "        Rq.<z> = Zq.quotient(z^self.n+1)\n",
    "\n",
    "        # PASSO 1\n",
    "        if self.infinite_norm(z,self.q) + self.Ls >= self.B:\n",
    "            print (\"Assinatura rejeitada!\")\n",
    "\n",
    "        # PASSO 2\n",
    "        cq = Rq(c)\n",
    "        w = self.aq*z - t*cq\n",
    "\n",
    "        # PASSO 3 E 4\n",
    "        u = w.list()\n",
    "        string = \"\"\n",
    "        l = m[2:]\n",
    "        string = string + l\n",
    "        for i in range(self.n):\n",
    "            u[i] = self.Msb(u[i])\n",
    "            k = bin(u[i])\n",
    "            if u[i] >= 0:\n",
    "                string = string + l[2:]\n",
    "            if u[i] < 0:\n",
    "                string = string + l[3:]\n",
    "        Hash = self.Hash(string)\n",
    "        if c != Hash:\n",
    "            print (\"Assinatura rejeitada!\")\n",
    "        else:\n",
    "            print (\"Assinatura aceite!\")"
   ]
  },
  {
   "cell_type": "code",
   "execution_count": 16,
   "metadata": {
    "collapsed": false
   },
   "outputs": [
    {
     "name": "stdout",
     "output_type": "stream",
     "text": [
      "Mensagem:  0b111010110111100110100010101\n",
      "Assinatura aceite!\n"
     ]
    }
   ],
   "source": [
    "Teste = qTesla()\n",
    "chaves = Teste.Keygen()\n",
    "m = bin(123456789)\n",
    "sign = Teste.Sign(m)\n",
    "print('Mensagem: ',m)\n",
    "print('Par de chaves: ', c)\n",
    "#print('Assinatura: ', sign)\n",
    "Teste.Verify(m,sign)"
   ]
  },
  {
   "cell_type": "code",
   "execution_count": 3,
   "metadata": {
    "collapsed": false,
    "scrolled": true
   },
   "outputs": [
    {
     "name": "stdout",
     "output_type": "stream",
     "text": [
      "Assinatura aceite!\n",
      "Assinatura aceite!\n"
     ]
    },
    {
     "name": "stdout",
     "output_type": "stream",
     "text": [
      "Assinatura aceite!\n",
      "Assinatura aceite!\n"
     ]
    },
    {
     "name": "stdout",
     "output_type": "stream",
     "text": [
      "Assinatura aceite!\n",
      "Assinatura aceite!\n"
     ]
    },
    {
     "name": "stdout",
     "output_type": "stream",
     "text": [
      "Assinatura aceite!\n"
     ]
    },
    {
     "name": "stdout",
     "output_type": "stream",
     "text": [
      "Assinatura aceite!\n",
      "Assinatura aceite!\n"
     ]
    },
    {
     "name": "stdout",
     "output_type": "stream",
     "text": [
      "Assinatura aceite!\n"
     ]
    },
    {
     "name": "stdout",
     "output_type": "stream",
     "text": [
      "Assinatura aceite!\n",
      "Assinatura aceite!\n"
     ]
    },
    {
     "name": "stdout",
     "output_type": "stream",
     "text": [
      "Assinatura aceite!\n"
     ]
    },
    {
     "name": "stdout",
     "output_type": "stream",
     "text": [
      "Assinatura aceite!\n"
     ]
    },
    {
     "name": "stdout",
     "output_type": "stream",
     "text": [
      "Assinatura aceite!\n",
      "Assinatura aceite!\n"
     ]
    },
    {
     "name": "stdout",
     "output_type": "stream",
     "text": [
      "Assinatura aceite!\n"
     ]
    },
    {
     "name": "stdout",
     "output_type": "stream",
     "text": [
      "Assinatura aceite!\n"
     ]
    },
    {
     "name": "stdout",
     "output_type": "stream",
     "text": [
      "Assinatura aceite!\n"
     ]
    },
    {
     "name": "stdout",
     "output_type": "stream",
     "text": [
      "Assinatura aceite!\n",
      "Assinatura aceite!\n"
     ]
    },
    {
     "name": "stdout",
     "output_type": "stream",
     "text": [
      "Assinatura aceite!\n",
      "Assinatura aceite!\n"
     ]
    },
    {
     "name": "stdout",
     "output_type": "stream",
     "text": [
      "Assinatura aceite!\n"
     ]
    },
    {
     "name": "stdout",
     "output_type": "stream",
     "text": [
      "Assinatura aceite!\n",
      "Assinatura aceite!\n",
      "Assinatura aceite!\n"
     ]
    },
    {
     "name": "stdout",
     "output_type": "stream",
     "text": [
      "Assinatura aceite!\n",
      "Assinatura aceite!\n",
      "Assinatura aceite!\n"
     ]
    },
    {
     "name": "stdout",
     "output_type": "stream",
     "text": [
      "Assinatura aceite!\n",
      "Assinatura aceite!\n"
     ]
    },
    {
     "name": "stdout",
     "output_type": "stream",
     "text": [
      "Assinatura aceite!\n",
      "Assinatura aceite!\n"
     ]
    },
    {
     "name": "stdout",
     "output_type": "stream",
     "text": [
      "Assinatura aceite!\n",
      "Assinatura aceite!\n",
      "Assinatura aceite!\n"
     ]
    },
    {
     "name": "stdout",
     "output_type": "stream",
     "text": [
      "Assinatura aceite!\n"
     ]
    },
    {
     "name": "stdout",
     "output_type": "stream",
     "text": [
      "Assinatura aceite!\n"
     ]
    },
    {
     "name": "stdout",
     "output_type": "stream",
     "text": [
      "Assinatura aceite!\n",
      "Assinatura aceite!\n",
      "Assinatura aceite!\n"
     ]
    },
    {
     "name": "stdout",
     "output_type": "stream",
     "text": [
      "Assinatura aceite!\n",
      "Assinatura aceite!\n",
      "Assinatura aceite!\n"
     ]
    },
    {
     "name": "stdout",
     "output_type": "stream",
     "text": [
      "Assinatura aceite!\n",
      "Assinatura aceite!\n"
     ]
    },
    {
     "name": "stdout",
     "output_type": "stream",
     "text": [
      "Assinatura aceite!\n",
      "Assinatura aceite!\n",
      "Assinatura aceite!\n"
     ]
    },
    {
     "name": "stdout",
     "output_type": "stream",
     "text": [
      "Assinatura aceite!\n",
      "Assinatura aceite!\n"
     ]
    },
    {
     "name": "stdout",
     "output_type": "stream",
     "text": [
      "Assinatura aceite!\n",
      "Assinatura aceite!\n"
     ]
    },
    {
     "name": "stdout",
     "output_type": "stream",
     "text": [
      "Assinatura aceite!\n"
     ]
    },
    {
     "name": "stdout",
     "output_type": "stream",
     "text": [
      "Assinatura aceite!\n",
      "Assinatura aceite!\n"
     ]
    },
    {
     "name": "stdout",
     "output_type": "stream",
     "text": [
      "Assinatura aceite!\n",
      "Assinatura aceite!\n"
     ]
    },
    {
     "name": "stdout",
     "output_type": "stream",
     "text": [
      "Assinatura aceite!\n"
     ]
    },
    {
     "name": "stdout",
     "output_type": "stream",
     "text": [
      "Assinatura aceite!\n"
     ]
    },
    {
     "name": "stdout",
     "output_type": "stream",
     "text": [
      "Assinatura aceite!\n",
      "Assinatura aceite!\n"
     ]
    },
    {
     "name": "stdout",
     "output_type": "stream",
     "text": [
      "Assinatura aceite!\n",
      "Assinatura aceite!\n",
      "Assinatura aceite!\n"
     ]
    },
    {
     "name": "stdout",
     "output_type": "stream",
     "text": [
      "Assinatura aceite!\n"
     ]
    },
    {
     "name": "stdout",
     "output_type": "stream",
     "text": [
      "Assinatura aceite!\n",
      "Assinatura aceite!\n"
     ]
    },
    {
     "name": "stdout",
     "output_type": "stream",
     "text": [
      "Assinatura aceite!\n",
      "Assinatura aceite!\n",
      "Assinatura aceite!\n"
     ]
    },
    {
     "name": "stdout",
     "output_type": "stream",
     "text": [
      "Assinatura aceite!\n",
      "Assinatura aceite!\n"
     ]
    },
    {
     "name": "stdout",
     "output_type": "stream",
     "text": [
      "Assinatura aceite!\n",
      "Assinatura aceite!\n"
     ]
    },
    {
     "name": "stdout",
     "output_type": "stream",
     "text": [
      "Assinatura aceite!\n",
      "Assinatura aceite!\n"
     ]
    },
    {
     "name": "stdout",
     "output_type": "stream",
     "text": [
      "Assinatura aceite!\n",
      "Assinatura aceite!\n"
     ]
    },
    {
     "name": "stdout",
     "output_type": "stream",
     "text": [
      "Assinatura aceite!\n",
      "Assinatura aceite!\n"
     ]
    },
    {
     "name": "stdout",
     "output_type": "stream",
     "text": [
      "Assinatura aceite!\n",
      "Assinatura aceite!\n"
     ]
    },
    {
     "name": "stdout",
     "output_type": "stream",
     "text": [
      "Assinatura aceite!\n",
      "Assinatura aceite!\n"
     ]
    },
    {
     "name": "stdout",
     "output_type": "stream",
     "text": [
      "Assinatura aceite!\n",
      "Assinatura aceite!\n"
     ]
    },
    {
     "name": "stdout",
     "output_type": "stream",
     "text": [
      "Assinatura aceite!\n",
      "Assinatura aceite!\n"
     ]
    },
    {
     "name": "stdout",
     "output_type": "stream",
     "text": [
      "Assinatura aceite!\n",
      "Assinatura aceite!\n"
     ]
    },
    {
     "name": "stdout",
     "output_type": "stream",
     "text": [
      "Assinatura aceite!\n"
     ]
    },
    {
     "name": "stdout",
     "output_type": "stream",
     "text": [
      "Assinatura aceite!\n",
      "Assinatura aceite!\n",
      "Assinatura aceite!\n"
     ]
    },
    {
     "name": "stdout",
     "output_type": "stream",
     "text": [
      "Assinatura aceite!\n",
      "Assinatura aceite!\n"
     ]
    },
    {
     "name": "stdout",
     "output_type": "stream",
     "text": [
      "Assinatura aceite!\n"
     ]
    }
   ],
   "source": [
    "for i in range (1,100):\n",
    "    Teste = qTesla()\n",
    "    Teste.Keygen()\n",
    "    m = bin(randint(1,99999999999999999999999999999999999999999999999999999999999999999999999999999999999999999999999))\n",
    "    sign = Teste.Sign(m)\n",
    "    Teste.Verify(m,sign)"
   ]
  },
  {
   "cell_type": "markdown",
   "metadata": {
    "collapsed": false
   },
   "source": [
    "# Zita Abreu"
   ]
  }
 ],
 "metadata": {
  "kernelspec": {
   "display_name": "SageMath 9.1",
   "language": "sagemath",
   "metadata": {
    "cocalc": {
     "description": "Open-source mathematical software system",
     "priority": 10,
     "url": "https://www.sagemath.org/"
    }
   },
   "name": "sage-9.1"
  },
  "language_info": {
   "codemirror_mode": {
    "name": "ipython",
    "version": 3
   },
   "file_extension": ".py",
   "mimetype": "text/x-python",
   "name": "python",
   "nbconvert_exporter": "python",
   "pygments_lexer": "ipython3",
   "version": "3.7.3"
  }
 },
 "nbformat": 4,
 "nbformat_minor": 4
}