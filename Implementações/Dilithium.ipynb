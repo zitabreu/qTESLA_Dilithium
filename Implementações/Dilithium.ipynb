{
 "cells": [
  {
   "cell_type": "markdown",
   "metadata": {
    "collapsed": false
   },
   "source": [
    "# CRYSTALS Dilithium\n",
    "\n",
    "O CRYSTALS Dilithium trata-se de uma técnica de assinatura digital pós-quântica baseado no M-LWE."
   ]
  },
  {
   "cell_type": "markdown",
   "metadata": {
    "collapsed": false
   },
   "source": [
    "## Parâmetros:\n",
    "Neste esquema de assinaturas $n$, $q$ e $h$ são fixos:\n",
    "- $n = 256$\n",
    "- $q = 2^{23}-2^{13} +1 = 8380417$\n",
    "- $h = 60$\n",
    "- $r = 1753$, sendo $r$ uma raiz primitiva de ordem $n$ de $-1$\n",
    "\n",
    "Os restantes parâmetros são os recomendados, ou seja\n",
    "\n",
    "- $K = 4$\n",
    "- $l = 3$\n",
    "- $\\gamma = 523776$\n",
    "- $\\alpha = 261888$\n",
    "- $\\eta = 6$\n",
    "- $\\beta = 325$"
   ]
  },
  {
   "cell_type": "markdown",
   "metadata": {
    "collapsed": false
   },
   "source": [
    "## KeyGen:\n",
    "- Gera-se $A \\in \\mathcal{R}_{q}^{k \\times l}$\n",
    "- Gera-se $s_1$ pertencente a $S_{\\eta}^{l}$ e $s_2$ pertencente a $S_{\\eta}^k$ , sendo $S_{\\eta}$ o conjunto de todos os polinómios tal que a\n",
    "norma infinita de qualquer polinómio é menos que $\\eta$\n",
    "- Seja $t = A \\cdot s1 + s2$\n",
    "- A chave pública é $(A,t)$\n",
    "- A chave privada é $(s_1,s_2)$"
   ]
  },
  {
   "cell_type": "markdown",
   "metadata": {
    "collapsed": false
   },
   "source": [
    "## Sign:\n",
    "- Gera-se $y$ pertencente a $S_{\\gamma-1}^{l}$\n",
    "- $w = HighBits(Ay,2\\alpha)$\n",
    "- $c = H(m || w)$\n",
    "- $z = y + cs_1$\n",
    "- Enquanto a norma infinita de $z$ for maior ou igual que $\\gamma - \\beta$ ou a norma infinita de $LowBits(Ay - cs_2,2\\alpha)$ for maior ou igual do que $\\alpha - \\beta$, voltamos ao início\n",
    "\n",
    "A assinatura é o par $(z,c)$."
   ]
  },
  {
   "cell_type": "markdown",
   "metadata": {
    "collapsed": false
   },
   "source": [
    "## Verify:\n",
    "- $w' = HighBits(Az - ct,2\\alpha)$\n",
    "- Se a norma infinita de $z$ for maior ou igual que $\\gamma - \\beta$ ou $c \\neq H(m || w')$ rejeita-se a assinatura, caso contrário a assinatura é aceite."
   ]
  },
  {
   "cell_type": "code",
   "execution_count": 8,
   "metadata": {
    "collapsed": false
   },
   "outputs": [
   ],
   "source": [
    "import hashlib\n",
    "\n",
    "\n",
    "class Dilithium:\n",
    "\n",
    "    def __init__(self):\n",
    "        self.n = 256\n",
    "        self.q = 8380417\n",
    "        self.h = 60\n",
    "        self.r = 1753\n",
    "        self.k = 4\n",
    "        self.l = 3\n",
    "        self.gama = 523776\n",
    "        self.alfa = 261888\n",
    "        self.eta = 6\n",
    "        self.beta = 325\n",
    "\n",
    "\n",
    "    #FUNCOES AUXILIARES:\n",
    "\n",
    "\n",
    "    # Geracao do conjunto S\n",
    "    def gen_S(self,lim,tam):\n",
    "        Zq.<z> = PolynomialRing(GF(self.q))\n",
    "        Rq.<z> = Zq.quotient(z^self.n+1)\n",
    "        S = []\n",
    "        for i in range(tam):\n",
    "            pol = []\n",
    "            for j in range(self.n):\n",
    "                pol.append(randint(1,lim))\n",
    "            S.append(Rq(pol))\n",
    "        S = matrix(Rq,tam,1,S)\n",
    "        return S\n",
    "\n",
    "    def Decompose(self,c,t):\n",
    "        Rq = IntegerModRing(self.q)\n",
    "        Rt = IntegerModRing(t)\n",
    "        r = int(Rq(c))\n",
    "        r0 = int(Rt(r))\n",
    "        if r0 > t/2:\n",
    "            r0 = r0 - int(t)\n",
    "        if r - r0 == self.q - 1:\n",
    "            r1 = 0\n",
    "            r0 = r0 - 1\n",
    "        else:\n",
    "            r1 = (r - r0)/(int(t))\n",
    "        return (r1,r0)\n",
    "\n",
    "    def HighBits(self,c):\n",
    "        x = self.Decompose(c,2*self.alfa)\n",
    "        return x[0]\n",
    "\n",
    "    def LowBits(self,c):\n",
    "        x = self.Decompose(c,2*self.alfa)\n",
    "        return x[1]\n",
    "\n",
    "    def HBpol(self,pol):\n",
    "        k = pol.list()\n",
    "        for i in range(len(k)):\n",
    "            h = k[i]\n",
    "            h = h.list()\n",
    "            for j in range(len(h)):\n",
    "                h[j] = self.HighBits(int(h[j]))\n",
    "            k[i] = h\n",
    "        return k\n",
    "\n",
    "    def LBpol(self,pol):\n",
    "        k = pol.list()\n",
    "        for i in range(len(k)):\n",
    "            h = k[i]\n",
    "            h = h.list()\n",
    "            for j in range(len(h)):\n",
    "                h[j] = self.LowBits(int(h[j]))\n",
    "            k[i] = h\n",
    "        return k\n",
    "\n",
    "    # Geracao de um elemento aleatorio em B60\n",
    "    def SampleInBall(self,r):\n",
    "        \"\"\" 'r' é usado como fonte de aleatoriedade (obs: deve ser suficientemente grande para possibilitar o rejection-sampling dos 60 valores de 'j') \"\"\"\n",
    "        sl = \"{:064b}\".format(int(r[:8].hex(),16)) # primeiros 60 bit são usados para selecção sinal.\n",
    "        k = 8 # posição para 'rejection-sampling'\n",
    "        c = [0] * 256 # coeficientes\n",
    "        #print(\"primeiros 64bit (para s):\",sl)\n",
    "        for i in range (196,256):\n",
    "            while (int(r[k])>i):\n",
    "                #print('R:', int(r[k]), \">\", i)\n",
    "                k +=1 # rejeita valores fora da gama pretendida.\n",
    "            j = int(r[k])\n",
    "            k += 1\n",
    "            s = int(sl[i-196])\n",
    "            #print(\"j=\", j, \"s=\", s)\n",
    "            c[i] = c[j]\n",
    "            c[j] = (-1)^(s)\n",
    "        return c\n",
    "\n",
    "    def Shake(self,a,b, n=int(256)):\n",
    "        \"\"\" default-value para 'n' dá uma folga para 60 rejeições... \"\"\"\n",
    "        shake = hashlib.shake_256()\n",
    "        shake.update(a)\n",
    "        shake.update(b)\n",
    "        s = shake.digest(n)\n",
    "        return s\n",
    "\n",
    "    def Hash(self,a,b,n=int(256)):\n",
    "        r = self.Shake(a,b,n)\n",
    "        c = self.SampleInBall(r)\n",
    "        return c\n",
    "\n",
    "    def norma_infinito(self,pol,n):\n",
    "        J = pol.list()\n",
    "        for i in range(len(J)):\n",
    "            k = J[i]\n",
    "            K = k.list()\n",
    "            for j in range(len(K)):\n",
    "                K[j] = abs(int(K[j]))\n",
    "            J[i] = K\n",
    "        L = []\n",
    "        for i in range(len(J)):\n",
    "            L.append(max(J[i]))\n",
    "        return max(L)\n",
    "\n",
    "    def norma_inf_vet(self,vetor):\n",
    "        Zq.<z> = PolynomialRing(GF(self.q))\n",
    "        Rq.<z> = Zq.quotient(z^self.n + 1)\n",
    "        for i in range(vetor.nrows()):\n",
    "            norm = self.norma_infinito(vetor[i],self.q)\n",
    "            vetor[i] = norm\n",
    "        return max(vetor)\n",
    "\n",
    "    def norma_inf_matriz(self,matriz):\n",
    "        L = []\n",
    "        for i in range(len(matriz)):\n",
    "            k = matriz[i]\n",
    "            for j in range(len(k)):\n",
    "                if k[j] < 0:\n",
    "                    k[j] = abs(k[j])\n",
    "                L.append(max(k))\n",
    "        for i in range(len(L)):\n",
    "            J = []\n",
    "            J.append(max(L))\n",
    "        return J[0]\n",
    "\n",
    "\n",
    "\n",
    "    # FUNCOES PRINCIPAIS\n",
    "\n",
    "\n",
    "    def Keygen(self):\n",
    "        Zx.<x> = ZZ[]\n",
    "        R.<x> = Zx.quotient(x^self.n+1)\n",
    "        Zq.<z> = PolynomialRing(GF(self.q))\n",
    "        Rq.<z> = Zq.quotient(z^self.n+1)\n",
    "\n",
    "        # PASSO 1\n",
    "        K = []\n",
    "        for i in range(self.k*self.l):\n",
    "            K.append(Rq.random_element())\n",
    "        A = matrix(Rq,self.k,self.l,K)\n",
    "\n",
    "        # PASSO 2\n",
    "        s1 = self.gen_S(self.eta,self.l) #s1: matriz 3x1\n",
    "        s2 = self.gen_S(self.eta,self.k) #s2:matriz 4x1\n",
    "\n",
    "        # PASSO 3\n",
    "        t = A*s1 + s2 #t: matriz 4x1\n",
    "\n",
    "        # PASSO 4 E 5\n",
    "        self.pubKey = (A,t)\n",
    "        self.privKey = (s1,s2)\n",
    "        return(self.pubKey,self.privKey)\n",
    "\n",
    "\n",
    "    def Sign(self,m):\n",
    "\n",
    "        A = self.pubKey[0]\n",
    "        s1 = self.privKey[0]\n",
    "        s2 = self.privKey[1]\n",
    "\n",
    "        Zx.<x> = ZZ[]\n",
    "        R.<x> = Zx.quotient(x^self.n + 1)\n",
    "        Zq.<z> = PolynomialRing(GF(self.q))\n",
    "        Rq.<z> = Zq.quotient(z^self.n + 1)\n",
    "\n",
    "        # PASSO 1\n",
    "        z = None\n",
    "\n",
    "        # PASSO 2\n",
    "        while z == None:\n",
    "\n",
    "            # PASSO 3\n",
    "            y = self.gen_S(self.gama - 1,self.l)\n",
    "\n",
    "            # PASSO 4\n",
    "            Ay = A*y\n",
    "            w = self.HBpol(Ay)\n",
    "\n",
    "            # PASSO 5\n",
    "            u = str(w).encode()\n",
    "            k = m.encode()\n",
    "            c = self.Hash(k,u)\n",
    "            cq = Rq(c)\n",
    "\n",
    "            # PASSO 6\n",
    "            z = matrix(y + cq*s1)\n",
    "\n",
    "            aa = self.norma_inf_vet(z)[0]\n",
    "            bb = int(self.gama - self.beta)\n",
    "            cc = int(self.norma_inf_matriz(self.LBpol(Ay-cq*s2)))\n",
    "            dd = int(self.alfa - self.beta)\n",
    "\n",
    "            # PASSO 7 E 8\n",
    "            if aa >= bb or cc >= dd:\n",
    "                z = None\n",
    "\n",
    "        z = matrix(y + cq*s1)\n",
    "        return (z,c)\n",
    "\n",
    "\n",
    "    def Verify(self,m,sig):\n",
    "        Zx.<x> = ZZ[]\n",
    "        R.<x> = Zx.quotient(x^self.n+1)\n",
    "        Zq.<z> = PolynomialRing(GF(self.q))\n",
    "        Rq.<z> = Zq.quotient(z^self.n+1)\n",
    "\n",
    "        A = self.pubKey[0]\n",
    "        t = self.pubKey[1]\n",
    "        z = sig[0]\n",
    "        c = sig[1]\n",
    "        cq = Rq(c)\n",
    "\n",
    "        # PASSO 1\n",
    "        Az = A*z\n",
    "        w = self.HBpol(Az - cq*t)\n",
    "\n",
    "        # PASSO 2 E 3\n",
    "        u = str(w).encode()\n",
    "        k = m.encode()\n",
    "        novo_c = self.Hash(k,u)\n",
    "        aa = int(self.norma_inf_vet(z)[0])\n",
    "        bb = int(self.gama - self.beta)\n",
    "        if aa >= bb or c != novo_c:\n",
    "            print('Assinatura rejeitada!')\n",
    "        else:\n",
    "            print('Assinatura aceite!')"
   ]
  },
  {
   "cell_type": "code",
   "execution_count": 9,
   "metadata": {
    "collapsed": false
   },
   "outputs": [
    {
     "name": "stdout",
     "output_type": "stream",
     "text": [
      "Mensagem:  0b111010110111100110100010101\n",
      "Assinatura aceite!\n"
     ]
    }
   ],
   "source": [
    "Teste = Dilithium()\n",
    "chaves = Teste.Keygen()\n",
    "m = bin(123456789)\n",
    "sign = Teste.Sign(m)\n",
    "print('Mensagem: ', m)\n",
    "#print('Par de chaves: ',chaves)\n",
    "#print('Assinatura: ',sign)\n",
    "Teste.Verify(m,sign)"
   ]
  },
  {
   "cell_type": "code",
   "execution_count": 11,
   "metadata": {
    "collapsed": false,
    "scrolled": true
   },
   "outputs": [
    {
     "name": "stdout",
     "output_type": "stream",
     "text": [
      "Assinatura aceite!\n"
     ]
    },
    {
     "name": "stdout",
     "output_type": "stream",
     "text": [
      "Assinatura aceite!\n"
     ]
    },
    {
     "name": "stdout",
     "output_type": "stream",
     "text": [
      "Assinatura aceite!\n"
     ]
    },
    {
     "name": "stdout",
     "output_type": "stream",
     "text": [
      "Assinatura aceite!\n"
     ]
    },
    {
     "name": "stdout",
     "output_type": "stream",
     "text": [
      "Assinatura aceite!\n"
     ]
    },
    {
     "name": "stdout",
     "output_type": "stream",
     "text": [
      "Assinatura aceite!\n"
     ]
    },
    {
     "name": "stdout",
     "output_type": "stream",
     "text": [
      "Assinatura aceite!\n",
      "Assinatura aceite!\n"
     ]
    },
    {
     "name": "stdout",
     "output_type": "stream",
     "text": [
      "Assinatura aceite!\n"
     ]
    },
    {
     "name": "stdout",
     "output_type": "stream",
     "text": [
      "Assinatura aceite!\n"
     ]
    },
    {
     "name": "stdout",
     "output_type": "stream",
     "text": [
      "Assinatura aceite!\n"
     ]
    },
    {
     "name": "stdout",
     "output_type": "stream",
     "text": [
      "Assinatura aceite!\n"
     ]
    },
    {
     "name": "stdout",
     "output_type": "stream",
     "text": [
      "Assinatura aceite!\n"
     ]
    },
    {
     "name": "stdout",
     "output_type": "stream",
     "text": [
      "Assinatura aceite!\n"
     ]
    },
    {
     "name": "stdout",
     "output_type": "stream",
     "text": [
      "Assinatura aceite!\n",
      "Assinatura aceite!\n"
     ]
    },
    {
     "name": "stdout",
     "output_type": "stream",
     "text": [
      "Assinatura aceite!\n"
     ]
    },
    {
     "name": "stdout",
     "output_type": "stream",
     "text": [
      "Assinatura aceite!\n"
     ]
    },
    {
     "name": "stdout",
     "output_type": "stream",
     "text": [
      "Assinatura aceite!\n"
     ]
    },
    {
     "name": "stdout",
     "output_type": "stream",
     "text": [
      "Assinatura aceite!\n",
      "Assinatura aceite!\n"
     ]
    },
    {
     "name": "stdout",
     "output_type": "stream",
     "text": [
      "Assinatura aceite!\n"
     ]
    },
    {
     "name": "stdout",
     "output_type": "stream",
     "text": [
      "Assinatura aceite!\n"
     ]
    },
    {
     "name": "stdout",
     "output_type": "stream",
     "text": [
      "Assinatura aceite!\n"
     ]
    },
    {
     "name": "stdout",
     "output_type": "stream",
     "text": [
      "Assinatura aceite!\n"
     ]
    },
    {
     "name": "stdout",
     "output_type": "stream",
     "text": [
      "Assinatura aceite!\n",
      "Assinatura aceite!\n"
     ]
    },
    {
     "name": "stdout",
     "output_type": "stream",
     "text": [
      "Assinatura aceite!\n",
      "Assinatura aceite!\n"
     ]
    },
    {
     "name": "stdout",
     "output_type": "stream",
     "text": [
      "Assinatura aceite!\n"
     ]
    },
    {
     "name": "stdout",
     "output_type": "stream",
     "text": [
      "Assinatura aceite!\n"
     ]
    },
    {
     "name": "stdout",
     "output_type": "stream",
     "text": [
      "Assinatura aceite!\n",
      "Assinatura aceite!\n"
     ]
    },
    {
     "name": "stdout",
     "output_type": "stream",
     "text": [
      "Assinatura aceite!\n"
     ]
    },
    {
     "name": "stdout",
     "output_type": "stream",
     "text": [
      "Assinatura aceite!\n"
     ]
    },
    {
     "name": "stdout",
     "output_type": "stream",
     "text": [
      "Assinatura aceite!\n"
     ]
    },
    {
     "name": "stdout",
     "output_type": "stream",
     "text": [
      "Assinatura aceite!\n"
     ]
    },
    {
     "name": "stdout",
     "output_type": "stream",
     "text": [
      "Assinatura aceite!\n"
     ]
    },
    {
     "name": "stdout",
     "output_type": "stream",
     "text": [
      "Assinatura aceite!\n"
     ]
    },
    {
     "name": "stdout",
     "output_type": "stream",
     "text": [
      "Assinatura aceite!\n"
     ]
    }
   ],
   "source": [
    "for i in range (1,100):\n",
    "    Teste = Dilithium()\n",
    "    Teste.Keygen()\n",
    "    m = bin(randint(1,999999999999999999999999999999999999999999999999999999999999999999999999999999999999999999999999))\n",
    "    sign = Teste.Sign(m)\n",
    "    Teste.Verify(m,sign)"
   ]
  },
  {
   "cell_type": "code",
   "execution_count": 0,
   "metadata": {
    "collapsed": false
   },
   "outputs": [
   ],
   "source": [
   ]
  },
  {
   "cell_type": "markdown",
   "metadata": {
    "collapsed": false
   },
   "source": [
    "# Zita Abreu"
   ]
  }
 ],
 "metadata": {
  "kernelspec": {
   "display_name": "SageMath 9.1",
   "language": "sagemath",
   "metadata": {
    "cocalc": {
     "description": "Open-source mathematical software system",
     "priority": 10,
     "url": "https://www.sagemath.org/"
    }
   },
   "name": "sage-9.1"
  },
  "language_info": {
   "codemirror_mode": {
    "name": "ipython",
    "version": 3
   },
   "file_extension": ".py",
   "mimetype": "text/x-python",
   "name": "python",
   "nbconvert_exporter": "python",
   "pygments_lexer": "ipython3",
   "version": "3.7.3"
  }
 },
 "nbformat": 4,
 "nbformat_minor": 4
}